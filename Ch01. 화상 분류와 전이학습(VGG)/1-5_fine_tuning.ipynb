{
 "cells": [
  {
   "cell_type": "markdown",
   "id": "c514e56c",
   "metadata": {},
   "source": [
    "### 1. 데이터셋과 데이터 로더 작성"
   ]
  },
  {
   "cell_type": "code",
   "execution_count": 30,
   "id": "d78218d1",
   "metadata": {},
   "outputs": [
    {
     "name": "stdout",
     "output_type": "stream",
     "text": [
      "./data/hymenoptera_data\\train\\**\\*.jpg\n",
      "./data/hymenoptera_data\\val\\**\\*.jpg\n"
     ]
    }
   ],
   "source": [
    "from utils.dataloader_image_classification import ImageTransform, make_datapath_list, HymeopteraDataset\n",
    "from torch.utils.data import DataLoader\n",
    "\n",
    "train_list = make_datapath_list(phase='train')\n",
    "val_list = make_datapath_list(phase='val')\n",
    "\n",
    "size = 224\n",
    "mean = (0.485, 0.456, 0.406)\n",
    "std = (0.229, 0.224, 0.225)\n",
    "train_dataset = HymeopteraDataset(file_list = train_list, transform = ImageTransform(size, mean, std), phase='train')\n",
    "val_dataset = HymeopteraDataset(file_list = val_list, transform = ImageTransform(size, mean, std),  phase='val')\n",
    "\n",
    "batch_size = 32\n",
    "train_dataloder = DataLoader(train_dataset, batch_size = batch_size, shuffle=True)\n",
    "val_dataloader = DataLoader(val_dataset, batch_size = batch_size, shuffle=True)\n",
    "\n",
    "dataloader_dict = {'train': train_dataloder, 'val': val_dataloader}"
   ]
  },
  {
   "cell_type": "markdown",
   "id": "cd0c4ad3",
   "metadata": {},
   "source": [
    "### 2. 네트워크 모델 작성"
   ]
  },
  {
   "cell_type": "code",
   "execution_count": 31,
   "id": "b02591b5",
   "metadata": {},
   "outputs": [
    {
     "data": {
      "text/plain": [
       "VGG(\n",
       "  (features): Sequential(\n",
       "    (0): Conv2d(3, 64, kernel_size=(3, 3), stride=(1, 1), padding=(1, 1))\n",
       "    (1): ReLU(inplace=True)\n",
       "    (2): Conv2d(64, 64, kernel_size=(3, 3), stride=(1, 1), padding=(1, 1))\n",
       "    (3): ReLU(inplace=True)\n",
       "    (4): MaxPool2d(kernel_size=2, stride=2, padding=0, dilation=1, ceil_mode=False)\n",
       "    (5): Conv2d(64, 128, kernel_size=(3, 3), stride=(1, 1), padding=(1, 1))\n",
       "    (6): ReLU(inplace=True)\n",
       "    (7): Conv2d(128, 128, kernel_size=(3, 3), stride=(1, 1), padding=(1, 1))\n",
       "    (8): ReLU(inplace=True)\n",
       "    (9): MaxPool2d(kernel_size=2, stride=2, padding=0, dilation=1, ceil_mode=False)\n",
       "    (10): Conv2d(128, 256, kernel_size=(3, 3), stride=(1, 1), padding=(1, 1))\n",
       "    (11): ReLU(inplace=True)\n",
       "    (12): Conv2d(256, 256, kernel_size=(3, 3), stride=(1, 1), padding=(1, 1))\n",
       "    (13): ReLU(inplace=True)\n",
       "    (14): Conv2d(256, 256, kernel_size=(3, 3), stride=(1, 1), padding=(1, 1))\n",
       "    (15): ReLU(inplace=True)\n",
       "    (16): MaxPool2d(kernel_size=2, stride=2, padding=0, dilation=1, ceil_mode=False)\n",
       "    (17): Conv2d(256, 512, kernel_size=(3, 3), stride=(1, 1), padding=(1, 1))\n",
       "    (18): ReLU(inplace=True)\n",
       "    (19): Conv2d(512, 512, kernel_size=(3, 3), stride=(1, 1), padding=(1, 1))\n",
       "    (20): ReLU(inplace=True)\n",
       "    (21): Conv2d(512, 512, kernel_size=(3, 3), stride=(1, 1), padding=(1, 1))\n",
       "    (22): ReLU(inplace=True)\n",
       "    (23): MaxPool2d(kernel_size=2, stride=2, padding=0, dilation=1, ceil_mode=False)\n",
       "    (24): Conv2d(512, 512, kernel_size=(3, 3), stride=(1, 1), padding=(1, 1))\n",
       "    (25): ReLU(inplace=True)\n",
       "    (26): Conv2d(512, 512, kernel_size=(3, 3), stride=(1, 1), padding=(1, 1))\n",
       "    (27): ReLU(inplace=True)\n",
       "    (28): Conv2d(512, 512, kernel_size=(3, 3), stride=(1, 1), padding=(1, 1))\n",
       "    (29): ReLU(inplace=True)\n",
       "    (30): MaxPool2d(kernel_size=2, stride=2, padding=0, dilation=1, ceil_mode=False)\n",
       "  )\n",
       "  (avgpool): AdaptiveAvgPool2d(output_size=(7, 7))\n",
       "  (classifier): Sequential(\n",
       "    (0): Linear(in_features=25088, out_features=4096, bias=True)\n",
       "    (1): ReLU(inplace=True)\n",
       "    (2): Dropout(p=0.5, inplace=False)\n",
       "    (3): Linear(in_features=4096, out_features=4096, bias=True)\n",
       "    (4): ReLU(inplace=True)\n",
       "    (5): Dropout(p=0.5, inplace=False)\n",
       "    (6): Linear(in_features=4096, out_features=2, bias=True)\n",
       "  )\n",
       ")"
      ]
     },
     "execution_count": 31,
     "metadata": {},
     "output_type": "execute_result"
    }
   ],
   "source": [
    "from torchvision.models import vgg16, VGG16_Weights\n",
    "import torch.nn as nn\n",
    "\n",
    "net = vgg16(weights = VGG16_Weights.DEFAULT)\n",
    "\n",
    "net.classifier[6] = nn.Linear(in_features=4096, out_features=2)\n",
    "\n",
    "net.train()"
   ]
  },
  {
   "cell_type": "markdown",
   "id": "56f2531f",
   "metadata": {},
   "source": [
    "### 3. 손실함수 정의"
   ]
  },
  {
   "cell_type": "code",
   "execution_count": 32,
   "id": "ab398b87",
   "metadata": {},
   "outputs": [],
   "source": [
    "criterion = nn.CrossEntropyLoss()"
   ]
  },
  {
   "cell_type": "markdown",
   "id": "b7ccab4c",
   "metadata": {},
   "source": [
    "### 4. 최적화 방법 설정"
   ]
  },
  {
   "cell_type": "code",
   "execution_count": 33,
   "id": "33a93e51",
   "metadata": {},
   "outputs": [
    {
     "name": "stdout",
     "output_type": "stream",
     "text": [
      "params_to_update_1에 저장:  features.0.weight\n",
      "params_to_update_1에 저장:  features.0.bias\n",
      "params_to_update_1에 저장:  features.2.weight\n",
      "params_to_update_1에 저장:  features.2.bias\n",
      "params_to_update_1에 저장:  features.5.weight\n",
      "params_to_update_1에 저장:  features.5.bias\n",
      "params_to_update_1에 저장:  features.7.weight\n",
      "params_to_update_1에 저장:  features.7.bias\n",
      "params_to_update_1에 저장:  features.10.weight\n",
      "params_to_update_1에 저장:  features.10.bias\n",
      "params_to_update_1에 저장:  features.12.weight\n",
      "params_to_update_1에 저장:  features.12.bias\n",
      "params_to_update_1에 저장:  features.14.weight\n",
      "params_to_update_1에 저장:  features.14.bias\n",
      "params_to_update_1에 저장:  features.17.weight\n",
      "params_to_update_1에 저장:  features.17.bias\n",
      "params_to_update_1에 저장:  features.19.weight\n",
      "params_to_update_1에 저장:  features.19.bias\n",
      "params_to_update_1에 저장:  features.21.weight\n",
      "params_to_update_1에 저장:  features.21.bias\n",
      "params_to_update_1에 저장:  features.24.weight\n",
      "params_to_update_1에 저장:  features.24.bias\n",
      "params_to_update_1에 저장:  features.26.weight\n",
      "params_to_update_1에 저장:  features.26.bias\n",
      "params_to_update_1에 저장:  features.28.weight\n",
      "params_to_update_1에 저장:  features.28.bias\n",
      "params_to_update_2에 저장:  classifier.0.weight\n",
      "params_to_update_2에 저장:  classifier.0.bias\n",
      "params_to_update_2에 저장:  classifier.3.weight\n",
      "params_to_update_2에 저장:  classifier.3.bias\n",
      "params_to_update_3에 저장:  classifier.6.weight\n",
      "params_to_update_3에 저장:  classifier.6.bias\n"
     ]
    }
   ],
   "source": [
    "params_to_update_1 = []\n",
    "params_to_update_2 = []\n",
    "params_to_update_3 = []\n",
    "\n",
    "update_param_names_1 = ['features']\n",
    "update_param_names_2 = ['classifier.0.weight', \n",
    "                      'classifier.0.bias', \n",
    "                      'classifier.3.weight',\n",
    "                      'classifier.3.bias']\n",
    "update_param_names_3 = ['classifier.6.weight', 'classifier.6.bias']\n",
    "\n",
    "for name, param  in net.named_parameters():\n",
    "    if update_param_names_1[0] in name:\n",
    "        param.requires_grad = True\n",
    "        params_to_update_1.append(param)\n",
    "        print('params_to_update_1에 저장: ', name)\n",
    "    \n",
    "    elif name in update_param_names_2:\n",
    "        param.requires_grad = True\n",
    "        params_to_update_2.append(param)\n",
    "        print('params_to_update_2에 저장: ', name)\n",
    "    \n",
    "    elif name in update_param_names_3:\n",
    "        param.requries_grad = True\n",
    "        params_to_update_3.append(param)\n",
    "        print('params_to_update_3에 저장: ', name)\n",
    "    \n",
    "    else:\n",
    "        param.requries_grad = False\n",
    "        print('경사 계산 없음. 학습하지 않음: ', name)"
   ]
  },
  {
   "cell_type": "code",
   "execution_count": 34,
   "id": "25afabe6",
   "metadata": {},
   "outputs": [],
   "source": [
    "import torch.optim as optim\n",
    "import torch\n",
    "\n",
    "# 최적화 방법 설정\n",
    "optimizer = optim.SGD([\n",
    "    {'params': params_to_update_1, 'lr': 1e-4},\n",
    "    {'params': params_to_update_2, 'lr': 5e-4},\n",
    "    {'params': params_to_update_3, 'lr': 1e-3}\n",
    "], momentum=0.9)"
   ]
  },
  {
   "cell_type": "markdown",
   "id": "334a206f",
   "metadata": {},
   "source": [
    "### 5. 학습 및 검증 실시"
   ]
  },
  {
   "cell_type": "code",
   "execution_count": 35,
   "id": "d962e623",
   "metadata": {},
   "outputs": [],
   "source": [
    "from tqdm import tqdm\n",
    "\n",
    "def train_model(net, dataloader_dict, criterion, optimizer, num_epochs):\n",
    "    device = torch.device('cuda' if torch.cuda.is_available() else 'cpu')\n",
    "    print('사용 장치: ', device)\n",
    "    \n",
    "    net.to(device)\n",
    "    \n",
    "    # 네트워크가 어느 정도 고정되면 고속화시킨다.\n",
    "    torch.backends.cudnn.benchmark = True\n",
    "    \n",
    "    for epoch in range(num_epochs):\n",
    "        print('Epoch {}/{}'.format(epoch+1, num_epochs))\n",
    "        print('---------------')\n",
    "        \n",
    "        for phase in ['train', 'val']:\n",
    "            if phase == 'train':\n",
    "                net.train()\n",
    "            else:\n",
    "                net.eval()\n",
    "                \n",
    "            epoch_loss = 0.0\n",
    "            epoch_corrects = 0\n",
    "            \n",
    "            # 학습하지 않았을 때의 검증 성능을 확인하기 위해 epoch=0의 훈련 생략\n",
    "            if (epoch == 0) and (phase == 'train'):\n",
    "                continue\n",
    "            \n",
    "            for inputs, labels in tqdm(dataloader_dict[phase]):\n",
    "                inputs = inputs.to(device)\n",
    "                labels = labels.to(device)\n",
    "                \n",
    "                optimizer.zero_grad()\n",
    "                \n",
    "                with torch.set_grad_enabled(phase == 'train'):\n",
    "                    outputs = net(inputs)\n",
    "                    loss = criterion(outputs, labels)\n",
    "                    preds = torch.argmax(outputs, 1)\n",
    "                    \n",
    "                    if phase == 'train':\n",
    "                        loss.backward()\n",
    "                        optimizer.step()\n",
    "                        \n",
    "                    epoch_loss += loss.item() * inputs.size(0)\n",
    "                    epoch_corrects += preds.eq(labels).sum().item()\n",
    "            epoch_loss = epoch_loss / len(dataloader_dict[phase].dataset)\n",
    "            epoch_acc = epoch_corrects / len(dataloader_dict[phase].dataset)\n",
    "\n",
    "            print('{} Loss: {:.4f} Acc: {:.4f}'.format(phase, epoch_loss, epoch_acc))                    "
   ]
  },
  {
   "cell_type": "code",
   "execution_count": 36,
   "id": "dee43c0d",
   "metadata": {},
   "outputs": [
    {
     "name": "stdout",
     "output_type": "stream",
     "text": [
      "사용 장치:  cuda\n",
      "Epoch 1/2\n",
      "---------------\n"
     ]
    },
    {
     "name": "stderr",
     "output_type": "stream",
     "text": [
      "100%|██████████| 5/5 [00:01<00:00,  4.29it/s]\n"
     ]
    },
    {
     "name": "stdout",
     "output_type": "stream",
     "text": [
      "val Loss: 0.7427 Acc: 0.4641\n",
      "Epoch 2/2\n",
      "---------------\n"
     ]
    },
    {
     "name": "stderr",
     "output_type": "stream",
     "text": [
      "100%|██████████| 8/8 [00:03<00:00,  2.37it/s]\n"
     ]
    },
    {
     "name": "stdout",
     "output_type": "stream",
     "text": [
      "train Loss: 0.4966 Acc: 0.7325\n"
     ]
    },
    {
     "name": "stderr",
     "output_type": "stream",
     "text": [
      "100%|██████████| 5/5 [00:01<00:00,  4.53it/s]"
     ]
    },
    {
     "name": "stdout",
     "output_type": "stream",
     "text": [
      "val Loss: 0.1695 Acc: 0.9608\n"
     ]
    },
    {
     "name": "stderr",
     "output_type": "stream",
     "text": [
      "\n"
     ]
    }
   ],
   "source": [
    "num_epochs = 2\n",
    "train_model(net, dataloader_dict, criterion, optimizer, num_epochs)"
   ]
  },
  {
   "cell_type": "markdown",
   "id": "b1836289",
   "metadata": {},
   "source": [
    "### 6. 학습된 네트워크 저장 및 로드"
   ]
  },
  {
   "cell_type": "code",
   "execution_count": 40,
   "id": "32f5d583",
   "metadata": {},
   "outputs": [],
   "source": [
    "save_path = './weights_fine_tuning.pth'\n",
    "torch.save(net.state_dict(), save_path)"
   ]
  },
  {
   "cell_type": "code",
   "execution_count": null,
   "id": "7bc6c47e",
   "metadata": {},
   "outputs": [
    {
     "name": "stderr",
     "output_type": "stream",
     "text": [
      "C:\\Users\\jyj1206\\AppData\\Local\\Temp\\ipykernel_18528\\4077220187.py:2: FutureWarning: You are using `torch.load` with `weights_only=False` (the current default value), which uses the default pickle module implicitly. It is possible to construct malicious pickle data which will execute arbitrary code during unpickling (See https://github.com/pytorch/pytorch/blob/main/SECURITY.md#untrusted-models for more details). In a future release, the default value for `weights_only` will be flipped to `True`. This limits the functions that could be executed during unpickling. Arbitrary objects will no longer be allowed to be loaded via this mode unless they are explicitly allowlisted by the user via `torch.serialization.add_safe_globals`. We recommend you start setting `weights_only=True` for any use case where you don't have full control of the loaded file. Please open an issue on GitHub for any issues related to this experimental feature.\n",
      "  load_weights = torch.load(load_path)\n",
      "C:\\Users\\jyj1206\\AppData\\Local\\Temp\\ipykernel_18528\\4077220187.py:5: FutureWarning: You are using `torch.load` with `weights_only=False` (the current default value), which uses the default pickle module implicitly. It is possible to construct malicious pickle data which will execute arbitrary code during unpickling (See https://github.com/pytorch/pytorch/blob/main/SECURITY.md#untrusted-models for more details). In a future release, the default value for `weights_only` will be flipped to `True`. This limits the functions that could be executed during unpickling. Arbitrary objects will no longer be allowed to be loaded via this mode unless they are explicitly allowlisted by the user via `torch.serialization.add_safe_globals`. We recommend you start setting `weights_only=True` for any use case where you don't have full control of the loaded file. Please open an issue on GitHub for any issues related to this experimental feature.\n",
      "  load_weights = torch.load(load_path, map_location='cpu')\n"
     ]
    },
    {
     "data": {
      "text/plain": [
       "<All keys matched successfully>"
      ]
     },
     "execution_count": 45,
     "metadata": {},
     "output_type": "execute_result"
    }
   ],
   "source": [
    "load_path = './weights_fine_tuning.pth'\n",
    "load_weights = torch.load(load_path)\n",
    "net.load_state_dict(load_weights)\n",
    "\n",
    "load_weights = torch.load(load_path, map_location='cpu')\n",
    "net.load_state_dict(load_weights)"
   ]
  }
 ],
 "metadata": {
  "kernelspec": {
   "display_name": "Python 3",
   "language": "python",
   "name": "python3"
  },
  "language_info": {
   "codemirror_mode": {
    "name": "ipython",
    "version": 3
   },
   "file_extension": ".py",
   "mimetype": "text/x-python",
   "name": "python",
   "nbconvert_exporter": "python",
   "pygments_lexer": "ipython3",
   "version": "3.12.6"
  }
 },
 "nbformat": 4,
 "nbformat_minor": 5
}
